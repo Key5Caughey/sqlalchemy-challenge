{
 "cells": [
  {
   "cell_type": "code",
   "execution_count": 2,
   "id": "49e6cd3d",
   "metadata": {},
   "outputs": [],
   "source": [
    "# Design climate app\n",
    "#Import dependencies\n",
    "\n",
    "import matplotlib.pyplot as plt\n",
    "import pandas as pd\n",
    "import datetime as dt\n",
    "\n",
    "# Python SQL toolkit and Object Relational Mapper# create a session\n",
    "\n",
    "\n",
    "import sqlalchemy\n",
    "from sqlalchemy.ext.automap import automap_base\n",
    "from sqlalchemy.orm import Session\n",
    "from sqlalchemy import create_engine,text, inspect, desc"
   ]
  },
  {
   "cell_type": "markdown",
   "id": "be589143",
   "metadata": {},
   "source": [
    "#just used this as a scratch pad basically\n"
   ]
  },
  {
   "cell_type": "code",
   "execution_count": 4,
   "id": "8969d6d5",
   "metadata": {},
   "outputs": [],
   "source": [
    "# Flask Setup\n",
    "from flask import Flask, jsonify\n",
    "app = Flask(__name__)"
   ]
  },
  {
   "cell_type": "code",
   "execution_count": null,
   "id": "f27c8721",
   "metadata": {},
   "outputs": [],
   "source": []
  },
  {
   "cell_type": "code",
   "execution_count": 19,
   "id": "24fd429f",
   "metadata": {},
   "outputs": [],
   "source": [
    "\n",
    "# Create Database Connection\n",
    "engine = create_engine(\"sqlite:///../Resources/hawaii.sqlite\", echo=False)\n"
   ]
  },
  {
   "cell_type": "code",
   "execution_count": 20,
   "id": "ec435aa8",
   "metadata": {},
   "outputs": [
    {
     "data": {
      "text/plain": [
       "sqlalchemy.engine.base.Engine"
      ]
     },
     "execution_count": 20,
     "metadata": {},
     "output_type": "execute_result"
    }
   ],
   "source": [
    "type(engine)"
   ]
  },
  {
   "cell_type": "code",
   "execution_count": 21,
   "id": "e8fa0710",
   "metadata": {},
   "outputs": [
    {
     "data": {
      "text/plain": [
       "['measurement', 'station']"
      ]
     },
     "execution_count": 21,
     "metadata": {},
     "output_type": "execute_result"
    }
   ],
   "source": [
    "inspector = inspect(engine)\n",
    "inspector.get_table_names()"
   ]
  },
  {
   "cell_type": "code",
   "execution_count": 22,
   "id": "623b67f5",
   "metadata": {},
   "outputs": [],
   "source": [
    "# reflect an existing database into a new model\n",
    "Base = automap_base()\n",
    "# reflect the tables\n",
    "Base.prepare(engine, reflect=True)\n",
    "\n",
    "# Save reference to the table\n",
    "Measurement = Base.classes.measurement\n",
    "Station = Base.classes.station"
   ]
  },
  {
   "cell_type": "code",
   "execution_count": 23,
   "id": "00b675da",
   "metadata": {},
   "outputs": [],
   "source": [
    "# create a session\n",
    "session = Session(engine)"
   ]
  },
  {
   "cell_type": "code",
   "execution_count": null,
   "id": "2be0f75c",
   "metadata": {},
   "outputs": [],
   "source": [
    "# Flask Routes start home page list all available routes\n",
    "@app.route (\"/\")\n",
    "def welcome():\n",
    "    return (\n",
    "        f\"Available Routes:<br/>\"\n",
    "        f\"/api/v1.0/precipitation<br/>\"\n",
    "        f\"/api/v1.0/stations<br/>\"\n",
    "\n",
    "    )\n",
    "\n",
    "#convert the query results from percipitation analysis to a dictionary\n",
    "#using 'date' as the key and 'prcp' as the value/return json representaion \n",
    "#of dictionary\n",
    "@app.route(\"/api/v1.0/precipitation\")\n",
    "def precipitation():\n",
    "\n",
    "    results = session.query(Precipitation.date)"
   ]
  },
  {
   "cell_type": "code",
   "execution_count": null,
   "id": "1c61a847",
   "metadata": {
    "collapsed": true
   },
   "outputs": [],
   "source": [
    "#return a json list of stations from dataset"
   ]
  },
  {
   "cell_type": "code",
   "execution_count": null,
   "id": "b20f890e",
   "metadata": {},
   "outputs": [],
   "source": [
    "#query the dates and temps observations of th emost active station \n",
    "#for previous year\n",
    "#return a json list of temps observations "
   ]
  },
  {
   "cell_type": "code",
   "execution_count": null,
   "id": "fccef61e",
   "metadata": {},
   "outputs": [],
   "source": [
    "#return a json list of min temps , the avg, the max for a specific \n",
    "#start or start_end range\n",
    "#for specific start , calc 'tmin','tavg', 'tmax', for all dates greater\n",
    "#or equal to the start date\n",
    "#for a specified start date and end date , do same for the dates \n",
    "#Join the station and measurement tables for some of the queries.\n",
    "\n",
    "#Use the Flask jsonify function to convert your API data to a valid JSON response object.\n",
    "\n"
   ]
  }
 ],
 "metadata": {
  "kernelspec": {
   "display_name": "Python 3 (ipykernel)",
   "language": "python",
   "name": "python3"
  },
  "language_info": {
   "codemirror_mode": {
    "name": "ipython",
    "version": 3
   },
   "file_extension": ".py",
   "mimetype": "text/x-python",
   "name": "python",
   "nbconvert_exporter": "python",
   "pygments_lexer": "ipython3",
   "version": "3.11.5"
  }
 },
 "nbformat": 4,
 "nbformat_minor": 5
}
